{
 "cells": [
  {
   "cell_type": "code",
   "execution_count": 1,
   "metadata": {},
   "outputs": [],
   "source": [
    "import numpy as np\n",
    "import matplotlib.pyplot as plt\n",
    "from scipy.linalg import solve_continuous_are"
   ]
  },
  {
   "cell_type": "markdown",
   "metadata": {},
   "source": [
    "# Midterm Theory: Code Used\n",
    "\n",
    "## Problem 1.c"
   ]
  },
  {
   "cell_type": "code",
   "execution_count": 2,
   "metadata": {},
   "outputs": [],
   "source": [
    "#copied from Lab 2\n",
    "def lqr(A: np.ndarray, B: np.ndarray, Q: np.ndarray, R: np.ndarray) -> np.ndarray:\n",
    "    P = solve_continuous_are(A, B, Q, R) #solves the Algebraic Ricatti Equation\n",
    "    K = -np.linalg.inv(R) @ (B.T @ P) # gets the K* matrix from the solution to the ARE\n",
    "    return K"
   ]
  },
  {
   "cell_type": "code",
   "execution_count": 3,
   "metadata": {},
   "outputs": [
    {
     "name": "stdout",
     "output_type": "stream",
     "text": [
      "[[ 0.02549362 17.15681714  8.34964261 -2.31933403]]\n"
     ]
    }
   ],
   "source": [
    "m1 = 1 #kg\n",
    "m2 = 1 #kg\n",
    "L1 = 1 #m\n",
    "L2 = 1 #m\n",
    "g = 9.8 #m/s\n",
    "\n",
    "A = np.array([[0,0,1,0],\n",
    "             [0,0,0,1],\n",
    "             [-(m1+m2)*g/(m1*L1), m2*g, 0,0],\n",
    "             [-(m1+m2)*g/(m1*L2), g/L2*(L1*m2 - 1), 0 , 0]])\n",
    "\n",
    "B = np.array([[0],[0],[-m2/(m1*L1)], [-m2/(m1*L2)]])\n",
    "\n",
    "Q = np.identity(n = 4) # 4x4 identity matrix\n",
    "R = np.array([[1]])\n",
    "\n",
    "\n",
    "K = lqr(A,B,Q,R)\n",
    "print(K)"
   ]
  },
  {
   "cell_type": "code",
   "execution_count": null,
   "metadata": {},
   "outputs": [],
   "source": []
  }
 ],
 "metadata": {
  "kernelspec": {
   "display_name": "Python 3",
   "language": "python",
   "name": "python3"
  },
  "language_info": {
   "codemirror_mode": {
    "name": "ipython",
    "version": 3
   },
   "file_extension": ".py",
   "mimetype": "text/x-python",
   "name": "python",
   "nbconvert_exporter": "python",
   "pygments_lexer": "ipython3",
   "version": "3.8.5"
  }
 },
 "nbformat": 4,
 "nbformat_minor": 4
}
