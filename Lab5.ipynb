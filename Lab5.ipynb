{
 "cells": [
  {
   "cell_type": "code",
   "execution_count": 6,
   "metadata": {},
   "outputs": [],
   "source": [
    "from jetbot import Robot\n",
    "import time\n",
    "import traitlets\n",
    "import ipywidgets.widgets as widgets\n",
    "from IPython.display import display\n",
    "from jetbot import Camera, bgr8_to_jpeg\n",
    "import os"
   ]
  },
  {
   "cell_type": "code",
   "execution_count": 2,
   "metadata": {},
   "outputs": [],
   "source": [
    "robot = Robot()"
   ]
  },
  {
   "cell_type": "code",
   "execution_count": 3,
   "metadata": {},
   "outputs": [],
   "source": [
    "robot.left(0.3)\n",
    "time.sleep(0.6)\n",
    "robot.stop()"
   ]
  },
  {
   "cell_type": "code",
   "execution_count": 4,
   "metadata": {},
   "outputs": [],
   "source": [
    "robot.right(0.3)\n",
    "time.sleep(0.6)\n",
    "robot.stop()"
   ]
  },
  {
   "cell_type": "code",
   "execution_count": 7,
   "metadata": {},
   "outputs": [],
   "source": [
    "#saves a snapshot of whatever the camera is currently showing\n",
    "def save_snapshot(directory,file_name):\n",
    "    image_path = os.path.join(directory, file_name + '.jpg')\n",
    "    with open(image_path, 'wb') as f:\n",
    "        f.write(image.value)"
   ]
  },
  {
   "cell_type": "code",
   "execution_count": 9,
   "metadata": {},
   "outputs": [],
   "source": [
    "def front_back_three_pics(speed = 0.3):\n",
    "    #make the camera instance\n",
    "    camera = Camera.instance(width=224, height=224)\n",
    "    \n",
    "    #make the image\n",
    "    image = widgets.Image(format='jpeg', width=224, height=224)  \n",
    "    # this width and height doesn't necessarily have to match the camera\n",
    "\n",
    "    #link the camera instance to the camera on the robot\n",
    "    camera_link = traitlets.dlink((camera, 'value'), (image, 'value'), transform=bgr8_to_jpeg)\n",
    "    \n",
    "    #show the image\n",
    "    display(image)\n",
    "    \n",
    "    #take a screenshot, save it\n",
    "    save_snapshot(Assignment_5,'before_moving')\n",
    "    \n",
    "    #move forward a bit\n",
    "    robot.forward(speed)\n",
    "    time.sleep(1.0)\n",
    "    robot.stop()\n",
    "    \n",
    "    #take a screenshot, save it\n",
    "    save_snapshot(Assignment_5,'after_moving_forward')\n",
    "    \n",
    "    #move backward a bit\n",
    "    robot.backward(speed)\n",
    "    time.sleep(1.0)\n",
    "    robot.stop\n",
    "    \n",
    "    #take a screenshot, save it\n",
    "    save_snapshot(Assignment_5,'after_moving_back')"
   ]
  },
  {
   "cell_type": "code",
   "execution_count": 18,
   "metadata": {},
   "outputs": [],
   "source": [
    "front_back_three_pics()"
   ]
  },
  {
   "cell_type": "code",
   "execution_count": null,
   "metadata": {},
   "outputs": [],
   "source": []
  }
 ],
 "metadata": {
  "kernelspec": {
   "display_name": "Python 3",
   "language": "python",
   "name": "python3"
  },
  "language_info": {
   "codemirror_mode": {
    "name": "ipython",
    "version": 3
   },
   "file_extension": ".py",
   "mimetype": "text/x-python",
   "name": "python",
   "nbconvert_exporter": "python",
   "pygments_lexer": "ipython3",
   "version": "3.6.9"
  }
 },
 "nbformat": 4,
 "nbformat_minor": 4
}
