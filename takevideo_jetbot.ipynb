{
 "cells": [
  {
   "cell_type": "markdown",
   "metadata": {},
   "source": [
    "This file will take a video with the Jetbot's camera. It must first be uploaded to your jetbot."
   ]
  },
  {
   "cell_type": "code",
   "execution_count": 15,
   "metadata": {},
   "outputs": [],
   "source": [
    "from jetbot import Camera\n",
    "import time\n",
    "import cv2"
   ]
  },
  {
   "cell_type": "code",
   "execution_count": 19,
   "metadata": {},
   "outputs": [],
   "source": [
    "# Some settings about the camera and video, do not change\n",
    "width = 224\n",
    "height = 224\n",
    "video_length = 5 # s\n",
    "frame_rate = 10\n",
    "camera = Camera.instance(width=width, height=height)"
   ]
  },
  {
   "cell_type": "markdown",
   "metadata": {},
   "source": [
    "The following cell will take a 5 second video and save it into a file 'video_jetbot.avi'. You should move your jetbot around slowly by hand so that there is movement in the background. Ensure that the background is varied (e.g. a bookshelf or a space with furniture) and the camera is not pointed at a blank wall. This will allow for a clear result when implementing in Lab 8. "
   ]
  },
  {
   "cell_type": "code",
   "execution_count": 21,
   "metadata": {},
   "outputs": [],
   "source": [
    "file_name = 'video_jetbot'  # call the video whatevery you like \n",
    "\n",
    "\n",
    "\n",
    "video = cv2.VideoWriter(file_name + '.avi',cv2.VideoWriter_fourcc('M','J','P','G'), 10, (width,height))\n",
    "count = 0\n",
    "\n",
    "while(True):\n",
    "    # Capture frame-by-frame\n",
    "    frame = camera.value # cap.read()\n",
    "    video.write(frame)\n",
    "    time.sleep(1 / frame_rate)\n",
    "    count += 1\n",
    "    if count > frame_rate*video_length:\n",
    "        break\n",
    "\n",
    "video.release()\n",
    "cv2.destroyAllWindows()"
   ]
  },
  {
   "cell_type": "code",
   "execution_count": null,
   "metadata": {},
   "outputs": [],
   "source": []
  }
 ],
 "metadata": {
  "kernelspec": {
   "display_name": "Python 3",
   "language": "python",
   "name": "python3"
  },
  "language_info": {
   "codemirror_mode": {
    "name": "ipython",
    "version": 3
   },
   "file_extension": ".py",
   "mimetype": "text/x-python",
   "name": "python",
   "nbconvert_exporter": "python",
   "pygments_lexer": "ipython3",
   "version": "3.7.9"
  }
 },
 "nbformat": 4,
 "nbformat_minor": 4
}
